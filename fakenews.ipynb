{
 "cells": [
  {
   "attachments": {},
   "cell_type": "markdown",
   "metadata": {},
   "source": [
    "# Σύστημα εντοπισμού αναξιόπιστων άρθρων ειδήσεων"
   ]
  },
  {
   "attachments": {},
   "cell_type": "markdown",
   "metadata": {},
   "source": [
    "Import των απαιτούμενων βιβλιοθηκών"
   ]
  },
  {
   "cell_type": "code",
   "execution_count": 1,
   "metadata": {},
   "outputs": [],
   "source": [
    "import pandas as pd\n",
    "import numpy as np\n",
    "import re\n",
    "import nltk\n",
    "from nltk.corpus import stopwords\n",
    "from nltk.stem.porter import PorterStemmer\n",
    "from sklearn.feature_extraction.text import TfidfVectorizer\n",
    "from sklearn.model_selection import train_test_split\n",
    "from sklearn.linear_model import LogisticRegression\n",
    "from sklearn.metrics import accuracy_score\n",
    "from sklearn.metrics import confusion_matrix\n",
    "from sklearn import svm\n",
    "import time\n",
    "import joblib\n",
    "from matplotlib import pyplot as plt\n",
    "import seaborn as sns\n"
   ]
  },
  {
   "attachments": {},
   "cell_type": "markdown",
   "metadata": {},
   "source": [
    "Φόρτωση και προεπεξεργασία των δεδομένων που θα χρησιμοποιηθούν για την εκπαίδευση και τον έλεγχο του μοντέλου."
   ]
  },
  {
   "cell_type": "code",
   "execution_count": 2,
   "metadata": {},
   "outputs": [],
   "source": [
    "# read csv\n",
    "df=pd.read_csv('train.csv')\n",
    "\n",
    "# counting the number of missing values in the dataset\n",
    "df.isnull().sum()\n",
    "\n",
    "# replacing the null values with empty string\n",
    "df = df.fillna('')\n",
    "\n",
    "# merging the author name and news title\n",
    "df['content'] = df['author']+' '+df['title']+' '+df['text']\n",
    "\n",
    "# separating the data & label\n",
    "X = df['content']\n",
    "Y = df['label']"
   ]
  },
  {
   "cell_type": "code",
   "execution_count": 3,
   "metadata": {},
   "outputs": [
    {
     "name": "stdout",
     "output_type": "stream",
     "text": [
      "0    Darrell Lucus House Dem Aide: We Didn’t Even S...\n",
      "1    Daniel J. Flynn FLYNN: Hillary Clinton, Big Wo...\n",
      "2    Consortiumnews.com Why the Truth Might Get You...\n",
      "3    Jessica Purkiss 15 Civilians Killed In Single ...\n",
      "4    Howard Portnoy Iranian woman jailed for fictio...\n",
      "Name: content, dtype: object\n",
      "0    1\n",
      "1    0\n",
      "2    1\n",
      "3    1\n",
      "4    1\n",
      "Name: label, dtype: int64\n"
     ]
    }
   ],
   "source": [
    "print(X.head())\n",
    "print(Y.head())"
   ]
  },
  {
   "attachments": {},
   "cell_type": "markdown",
   "metadata": {},
   "source": [
    "Συνέχεια προεπεξεργασίας: \n",
    "Ορισμός της συνάρτησης stemming η οποία εκτελεί τα εξής βήματα όσον αφορά την προεπεξεργασία του κειμένου:\n",
    "1. Το περιεχόμενο κειμένου καθαρίζεται αφαιρώντας τυχόν χαρακτήρες που δεν είναι γράμματα (a-z ή A-Z) αντικαθιστώντας τους με έναν χαρακτήρα διαστήματος.\n",
    "2. Στη συνέχεια, το καθαρισμένο κείμενο μετατρέπεται σε πεζά.\n",
    "3. Tο καθαρισμένο κείμενο χωρίζεται σε μεμονωμένες λέξεις.\n",
    "4. Στη συνέχεια, οι λέξεις τροποποιούνται χρησιμοποιώντας το αντικείμενο PorterStemmer,που είναι ένα εργαλείο για τη μείωση των λέξεων στη βάση ή τη ρίζα τους.\n",
    "5. Τα stopwords αφαιρούνται από τη λίστα των λέξεων.\n",
    "6. Τέλος, οι επεξεργασμένες λέξεις ενώνονται ξανά μεταξύ τους σε μια ενιαία συμβολοσειρά."
   ]
  },
  {
   "cell_type": "code",
   "execution_count": 4,
   "metadata": {},
   "outputs": [
    {
     "name": "stdout",
     "output_type": "stream",
     "text": [
      "['i', 'me', 'my', 'myself', 'we', 'our', 'ours', 'ourselves', 'you', \"you're\", \"you've\", \"you'll\", \"you'd\", 'your', 'yours', 'yourself', 'yourselves', 'he', 'him', 'his', 'himself', 'she', \"she's\", 'her', 'hers', 'herself', 'it', \"it's\", 'its', 'itself', 'they', 'them', 'their', 'theirs', 'themselves', 'what', 'which', 'who', 'whom', 'this', 'that', \"that'll\", 'these', 'those', 'am', 'is', 'are', 'was', 'were', 'be', 'been', 'being', 'have', 'has', 'had', 'having', 'do', 'does', 'did', 'doing', 'a', 'an', 'the', 'and', 'but', 'if', 'or', 'because', 'as', 'until', 'while', 'of', 'at', 'by', 'for', 'with', 'about', 'against', 'between', 'into', 'through', 'during', 'before', 'after', 'above', 'below', 'to', 'from', 'up', 'down', 'in', 'out', 'on', 'off', 'over', 'under', 'again', 'further', 'then', 'once', 'here', 'there', 'when', 'where', 'why', 'how', 'all', 'any', 'both', 'each', 'few', 'more', 'most', 'other', 'some', 'such', 'no', 'nor', 'not', 'only', 'own', 'same', 'so', 'than', 'too', 'very', 's', 't', 'can', 'will', 'just', 'don', \"don't\", 'should', \"should've\", 'now', 'd', 'll', 'm', 'o', 're', 've', 'y', 'ain', 'aren', \"aren't\", 'couldn', \"couldn't\", 'didn', \"didn't\", 'doesn', \"doesn't\", 'hadn', \"hadn't\", 'hasn', \"hasn't\", 'haven', \"haven't\", 'isn', \"isn't\", 'ma', 'mightn', \"mightn't\", 'mustn', \"mustn't\", 'needn', \"needn't\", 'shan', \"shan't\", 'shouldn', \"shouldn't\", 'wasn', \"wasn't\", 'weren', \"weren't\", 'won', \"won't\", 'wouldn', \"wouldn't\"]\n"
     ]
    },
    {
     "name": "stderr",
     "output_type": "stream",
     "text": [
      "[nltk_data] Downloading package stopwords to\n",
      "[nltk_data]     C:\\Users\\georg\\AppData\\Roaming\\nltk_data...\n",
      "[nltk_data]   Package stopwords is already up-to-date!\n"
     ]
    }
   ],
   "source": [
    "nltk.download('stopwords')\n",
    "\n",
    "# printing the stopwords in English\n",
    "print(stopwords.words('english'))\n",
    "\n",
    "port_stem = PorterStemmer()\n",
    "\n",
    "def stemming(content):\n",
    "    review = re.sub('[^a-zA-Z]',' ',content)\n",
    "    review = review.lower()\n",
    "    review = review.split()\n",
    "    review = [port_stem.stem(word) for word in review if not word in stopwords.words('english')]\n",
    "    review = ' '.join(review)\n",
    "    return review"
   ]
  },
  {
   "cell_type": "code",
   "execution_count": 5,
   "metadata": {},
   "outputs": [
    {
     "name": "stdout",
     "output_type": "stream",
     "text": [
      "(20800, 111501)\n"
     ]
    }
   ],
   "source": [
    "X = X.apply(stemming)\n",
    "\n",
    "#separating the data and label\n",
    "X = X.values\n",
    "Y = Y.values\n",
    "\n",
    "# converting the textual data to numerical data\n",
    "vectorizer = TfidfVectorizer()\n",
    "vectorizer.fit(X)\n",
    "X = vectorizer.transform(X)\n",
    "\n",
    "print(X.shape)\n",
    "\n",
    "X_train, X_test, Y_train, Y_test = train_test_split(X, Y, test_size = 0.2, stratify=Y, random_state=2)"
   ]
  },
  {
   "attachments": {},
   "cell_type": "markdown",
   "metadata": {},
   "source": [
    "Αποθήκευση του vectorizer, ώστε να χρησιμοποιηθεί στην εφαρμογή."
   ]
  },
  {
   "cell_type": "code",
   "execution_count": 6,
   "metadata": {},
   "outputs": [
    {
     "data": {
      "text/plain": [
       "['vectorizer.joblib']"
      ]
     },
     "execution_count": 6,
     "metadata": {},
     "output_type": "execute_result"
    }
   ],
   "source": [
    "# Save the vectorizer\n",
    "joblib.dump(vectorizer, 'vectorizer.joblib')"
   ]
  },
  {
   "attachments": {},
   "cell_type": "markdown",
   "metadata": {},
   "source": [
    "Εκπαίδευση με την χρήση του αλγορίθμου λογιστικής παλινδρόμησης και υπολογισμός του χρόνου εκτέλεσης"
   ]
  },
  {
   "cell_type": "code",
   "execution_count": 7,
   "metadata": {},
   "outputs": [
    {
     "name": "stdout",
     "output_type": "stream",
     "text": [
      "Training time for Logistic Regression model is: 1.44 seconds\n"
     ]
    }
   ],
   "source": [
    "start_time_LR = time.time()\n",
    "\n",
    "model_LR = LogisticRegression()\n",
    "model_LR.fit(X_train, Y_train)\n",
    "\n",
    "print(\"Training time for Logistic Regression model is: {:.2f} seconds\".format(time.time() - start_time_LR))"
   ]
  },
  {
   "attachments": {},
   "cell_type": "markdown",
   "metadata": {},
   "source": [
    "Αποθήκευση του εκπαιδευμένου μοντέλου λογιστικής παλινδρόμησης."
   ]
  },
  {
   "cell_type": "code",
   "execution_count": 8,
   "metadata": {},
   "outputs": [
    {
     "data": {
      "text/plain": [
       "['model_LR.joblib']"
      ]
     },
     "execution_count": 8,
     "metadata": {},
     "output_type": "execute_result"
    }
   ],
   "source": [
    "joblib.dump(model_LR, \"model_LR.joblib\")"
   ]
  },
  {
   "cell_type": "code",
   "execution_count": 9,
   "metadata": {},
   "outputs": [
    {
     "data": {
      "text/plain": [
       "(4160, 111501)"
      ]
     },
     "execution_count": 9,
     "metadata": {},
     "output_type": "execute_result"
    }
   ],
   "source": [
    "X_test.shape"
   ]
  },
  {
   "attachments": {},
   "cell_type": "markdown",
   "metadata": {},
   "source": [
    "Ακρίβεια ταξινόμησης του μοντέλου λογιστικής παλινδρόμησης και χρόνος που χρειάστηκε για να εκτελεστεί το μοντέλο και να κατηγοριοποιήσει τα δεδομένα ελέγχου."
   ]
  },
  {
   "cell_type": "code",
   "execution_count": 10,
   "metadata": {},
   "outputs": [
    {
     "name": "stdout",
     "output_type": "stream",
     "text": [
      "Accuracy score of the training data :  0.9798677884615384\n",
      "Accuracy score of the test data :  0.9543269230769231\n",
      "Time to return predictions for 4160 new articles is : 0.006999 seconds\n",
      "\n"
     ]
    },
    {
     "data": {
      "image/png": "[encoded data removed]",
      "text/plain": [
       "<Figure size 432x288 with 2 Axes>"
      ]
     },
     "metadata": {
      "needs_background": "light"
     },
     "output_type": "display_data"
    }
   ],
   "source": [
    "# accuracy score on the training data\n",
    "y_train_pred = model_LR.predict(X_train)\n",
    "training_data_accuracy = accuracy_score(y_train_pred, Y_train)\n",
    "print('Accuracy score of the training data : ', training_data_accuracy)\n",
    "\n",
    "start_time_LR_getpreds = time.time()\n",
    "# accuracy score on the test data\n",
    "y_test_pred = model_LR.predict(X_test)\n",
    "test_data_accuracy = accuracy_score(y_test_pred, Y_test)\n",
    "print('Accuracy score of the test data : ', test_data_accuracy)\n",
    "print(\"Time to return predictions for 4160 new articles is : {:.6f} seconds\".format(time.time() - start_time_LR_getpreds))\n",
    "\n",
    "cm_test = confusion_matrix(Y_test, y_test_pred)\n",
    "print()\n",
    "sns.heatmap(cm_test, annot=True, fmt='d',cmap='Blues')\n",
    "plt.xlabel('True Label')\n",
    "plt.ylabel('Predicted Label')\n",
    "plt.title('Confusion Matrix - (Test Data')\n",
    "plt.show()"
   ]
  },
  {
   "attachments": {},
   "cell_type": "markdown",
   "metadata": {},
   "source": [
    "Εκπαίδευση με την χρήση του Support Vector Classifier."
   ]
  },
  {
   "cell_type": "code",
   "execution_count": 11,
   "metadata": {},
   "outputs": [
    {
     "name": "stdout",
     "output_type": "stream",
     "text": [
      "Training time for Support Vector Classifier model is: 689.91 seconds\n"
     ]
    }
   ],
   "source": [
    "start_time_svc = time.time()\n",
    "\n",
    "model_svc = svm.SVC()\n",
    "model_svc.fit(X_train, Y_train)\n",
    "\n",
    "print(\"Training time for Support Vector Classifier model is: {:.2f} seconds\".format(time.time() - start_time_svc))"
   ]
  },
  {
   "cell_type": "code",
   "execution_count": 12,
   "metadata": {},
   "outputs": [
    {
     "data": {
      "text/plain": [
       "['model_svc.joblib']"
      ]
     },
     "execution_count": 12,
     "metadata": {},
     "output_type": "execute_result"
    }
   ],
   "source": [
    "joblib.dump(model_svc, \"model_svc.joblib\")"
   ]
  },
  {
   "attachments": {},
   "cell_type": "markdown",
   "metadata": {},
   "source": [
    "Υπολογισμός ακρίβειας μοντέλου SVC."
   ]
  },
  {
   "cell_type": "code",
   "execution_count": 13,
   "metadata": {},
   "outputs": [
    {
     "name": "stdout",
     "output_type": "stream",
     "text": [
      "Accuracy score of the training data :  0.9986177884615385\n",
      "Accuracy score of the test data :  0.9663461538461539\n",
      "Time to return predictions for 4160 new articles is : 58.744752 seconds\n",
      "\n"
     ]
    },
    {
     "data": {
      "image/png": "[encoded data removed]",
      "text/plain": [
       "<Figure size 432x288 with 2 Axes>"
      ]
     },
     "metadata": {
      "needs_background": "light"
     },
     "output_type": "display_data"
    }
   ],
   "source": [
    "# accuracy score on the training data\n",
    "y_train_pred = model_svc.predict(X_train)\n",
    "training_data_accuracy = accuracy_score(y_train_pred, Y_train)\n",
    "print('Accuracy score of the training data : ', training_data_accuracy)\n",
    "\n",
    "start_time_LR_getpreds = time.time()\n",
    "# accuracy score on the test data\n",
    "y_test_pred = model_svc.predict(X_test)\n",
    "test_data_accuracy = accuracy_score(y_test_pred, Y_test)\n",
    "print('Accuracy score of the test data : ', test_data_accuracy)\n",
    "print(\"Time to return predictions for 4160 new articles is : {:.6f} seconds\".format(time.time() - start_time_LR_getpreds))\n",
    "\n",
    "cm_test = confusion_matrix(Y_test, y_test_pred)\n",
    "print()\n",
    "sns.heatmap(cm_test, annot=True, fmt='d',cmap='Blues')\n",
    "plt.xlabel('True Label')\n",
    "plt.ylabel('Predicted Label')\n",
    "plt.title('Confusion Matrix (Test Data')\n",
    "plt.show()"
   ]
  }
 ],
 "metadata": {
  "kernelspec": {
   "display_name": "Python 3",
   "language": "python",
   "name": "python3"
  },
  "language_info": {
   "codemirror_mode": {
    "name": "ipython",
    "version": 3
   },
   "file_extension": ".py",
   "mimetype": "text/x-python",
   "name": "python",
   "nbconvert_exporter": "python",
   "pygments_lexer": "ipython3",
   "version": "3.9.3"
  },
  "orig_nbformat": 4,
  "vscode": {
   "interpreter": {
    "hash": "52634da84371cba311ea128a5ea7cdc41ff074b781779e754b270ff9f8153cee"
   }
  }
 },
 "nbformat": 4,
 "nbformat_minor": 2
}
